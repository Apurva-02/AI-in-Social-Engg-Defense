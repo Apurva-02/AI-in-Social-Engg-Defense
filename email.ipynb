{
 "cells": [
  {
   "cell_type": "code",
   "execution_count": 1,
   "metadata": {},
   "outputs": [
    {
     "name": "stdout",
     "output_type": "stream",
     "text": [
      "   phish_id                                                url  \\\n",
      "0   9005891                      https://sdfghg.workfolio.com/   \n",
      "1   9005887  https://allegrolokalnie.rezerwacja8888.icu/?id...   \n",
      "2   9005886  https://webmail.strato.apps.customerservice.th...   \n",
      "3   9005883                            https://relay.gl/z7Smqo   \n",
      "4   9005882  https://app.wavecnct.com/app/profile/mary.alic...   \n",
      "\n",
      "                                    phish_detail_url  \\\n",
      "0  http://www.phishtank.com/phish_detail.php?phis...   \n",
      "1  http://www.phishtank.com/phish_detail.php?phis...   \n",
      "2  http://www.phishtank.com/phish_detail.php?phis...   \n",
      "3  http://www.phishtank.com/phish_detail.php?phis...   \n",
      "4  http://www.phishtank.com/phish_detail.php?phis...   \n",
      "\n",
      "             submission_time verified          verification_time online  \\\n",
      "0  2025-03-07T09:52:42+00:00      yes  2025-03-07T10:03:40+00:00    yes   \n",
      "1  2025-03-07T09:30:22+00:00      yes  2025-03-07T09:42:38+00:00    yes   \n",
      "2  2025-03-07T09:27:56+00:00      yes  2025-03-07T09:32:32+00:00    yes   \n",
      "3  2025-03-07T09:13:02+00:00      yes  2025-03-07T09:22:55+00:00    yes   \n",
      "4  2025-03-07T09:11:37+00:00      yes  2025-03-07T09:12:20+00:00    yes   \n",
      "\n",
      "    target  \n",
      "0    Other  \n",
      "1  Allegro  \n",
      "2    Other  \n",
      "3    Other  \n",
      "4    Other  \n"
     ]
    }
   ],
   "source": [
    "import pandas as pd\n",
    "df = pd.read_csv(\"emails.csv\")  # Ensure this is the correct dataset\n",
    "print(df.head())  # Check first few rows"
   ]
  },
  {
   "cell_type": "code",
   "execution_count": 4,
   "metadata": {},
   "outputs": [
    {
     "name": "stdout",
     "output_type": "stream",
     "text": [
      "phish_id\n",
      "1123978    1\n",
      "9005891    1\n",
      "9005887    1\n",
      "9005886    1\n",
      "9005883    1\n",
      "          ..\n",
      "9005866    1\n",
      "9005865    1\n",
      "9005862    1\n",
      "9005858    1\n",
      "9005857    1\n",
      "Name: count, Length: 65227, dtype: int64\n"
     ]
    }
   ],
   "source": [
    "print(df['phish_id'].value_counts())  # Count phishing (1) and safe (0)"
   ]
  }
 ],
 "metadata": {
  "kernelspec": {
   "display_name": "Python 3",
   "language": "python",
   "name": "python3"
  },
  "language_info": {
   "codemirror_mode": {
    "name": "ipython",
    "version": 3
   },
   "file_extension": ".py",
   "mimetype": "text/x-python",
   "name": "python",
   "nbconvert_exporter": "python",
   "pygments_lexer": "ipython3",
   "version": "3.13.2"
  }
 },
 "nbformat": 4,
 "nbformat_minor": 2
}
